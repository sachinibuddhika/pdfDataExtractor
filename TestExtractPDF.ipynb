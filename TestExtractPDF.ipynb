{
  "nbformat": 4,
  "nbformat_minor": 0,
  "metadata": {
    "colab": {
      "provenance": [],
      "authorship_tag": "ABX9TyOxaTmZlmPUcb2At+i6xmjB",
      "include_colab_link": true
    },
    "kernelspec": {
      "name": "python3",
      "display_name": "Python 3"
    },
    "language_info": {
      "name": "python"
    }
  },
  "cells": [
    {
      "cell_type": "markdown",
      "metadata": {
        "id": "view-in-github",
        "colab_type": "text"
      },
      "source": [
        "<a href=\"https://colab.research.google.com/github/sachinibuddhika/pdfDataExtractor/blob/main/TestExtractPDF.ipynb\" target=\"_parent\"><img src=\"https://colab.research.google.com/assets/colab-badge.svg\" alt=\"Open In Colab\"/></a>"
      ]
    },
    {
      "cell_type": "code",
      "execution_count": null,
      "metadata": {
        "id": "vXpVCcfMzf4V"
      },
      "outputs": [],
      "source": [
        "!python --version\n"
      ]
    },
    {
      "cell_type": "code",
      "source": [
        "!pip install pdfminer.six"
      ],
      "metadata": {
        "id": "5TV0bHV910rq"
      },
      "execution_count": null,
      "outputs": []
    },
    {
      "cell_type": "code",
      "source": [
        "import re"
      ],
      "metadata": {
        "id": "3wmJyw102uSG"
      },
      "execution_count": null,
      "outputs": []
    },
    {
      "cell_type": "code",
      "source": [
        "\n",
        "import os\n",
        "\n",
        "pdf_path = r'testDoc.pdf'\n",
        "\n",
        "if os.path.exists(pdf_path):\n",
        "    print(f\"The file {pdf_path} exists.\")\n",
        "else:\n",
        "    print(f\"The file {pdf_path} does not exist.\")\n"
      ],
      "metadata": {
        "id": "wjpKwFQf3M-I"
      },
      "execution_count": null,
      "outputs": []
    },
    {
      "cell_type": "markdown",
      "source": [
        "**To Extract Text If A Text Is Directly Converted In To PDF**"
      ],
      "metadata": {
        "id": "iPMZpdWODM9X"
      }
    },
    {
      "cell_type": "code",
      "source": [
        "!pip install PyPDF2"
      ],
      "metadata": {
        "id": "flIWHzs71pUB"
      },
      "execution_count": null,
      "outputs": []
    },
    {
      "cell_type": "code",
      "source": [
        "\n",
        "\n",
        "import PyPDF2\n",
        "\n",
        "pdf_path = r'testDoc.pdf'\n",
        "\n",
        "def extract_text_with_pypdf2(pdf_path):\n",
        "    text = \"\"\n",
        "    try:\n",
        "        with open(pdf_path, 'rb') as file:\n",
        "            pdf_reader = PyPDF2.PdfReader(file)\n",
        "            for page_number in range(len(pdf_reader.pages)):\n",
        "                page = pdf_reader.pages[page_number]\n",
        "                text += page.extract_text()\n",
        "    except Exception as e:\n",
        "        print(f\"Error: {e}\")\n",
        "    return text\n",
        "\n",
        "print(extract_text_with_pypdf2(pdf_path))"
      ],
      "metadata": {
        "id": "zitOxRuF1szy"
      },
      "execution_count": null,
      "outputs": []
    },
    {
      "cell_type": "markdown",
      "source": [
        "**To Extract Text If The PDF Is Consisted With Text Images**"
      ],
      "metadata": {
        "id": "Af6k-lbsCvjx"
      }
    },
    {
      "cell_type": "code",
      "source": [
        "!pip install pypdf\n",
        "from pypdf import PdfReader"
      ],
      "metadata": {
        "id": "pYttNXEMnNzx"
      },
      "execution_count": null,
      "outputs": []
    },
    {
      "cell_type": "code",
      "source": [
        "reader=PdfReader('CT-27-12-2023-CT.pdf')\n",
        "print(\"Number of pages in the pdf:\",len(reader.pages))\n",
        "page=reader.pages[0]\n",
        "\n",
        "for i in page.images:\n",
        "  with open(i.name,'wb') as f:\n",
        "    f.write(i.data)"
      ],
      "metadata": {
        "id": "gTsl7cYYnZog"
      },
      "execution_count": null,
      "outputs": []
    },
    {
      "cell_type": "code",
      "source": [
        "!pip install pytesseract"
      ],
      "metadata": {
        "id": "6mUDbjHPzpr5"
      },
      "execution_count": null,
      "outputs": []
    },
    {
      "cell_type": "code",
      "source": [
        "!sudo apt install tesseract-ocr"
      ],
      "metadata": {
        "id": "2tBQg_Hk0bNI"
      },
      "execution_count": null,
      "outputs": []
    },
    {
      "cell_type": "code",
      "source": [
        "from PIL import Image\n",
        "import pytesseract\n",
        "import enum\n",
        "\n",
        "class OS(enum.Enum):\n",
        "    Mac = 0\n",
        "    Windows = 1\n",
        "\n",
        "class Language(enum.Enum):\n",
        "    ENG = 'eng'\n",
        "    SNH = 'snh'\n",
        "    TML = 'tml'\n",
        "\n",
        "class ImageReader:\n",
        "    def __init__(self, os: OS):\n",
        "        if os == OS.Mac:\n",
        "            print(\"Running on: MAC\\n\")\n",
        "        elif os == OS.Windows:\n",
        "            windows_path = r'C:\\Program Files\\Tesseract-OCR\\tesseract.exe'\n",
        "            pytesseract.tesseract_cmd = windows_path\n",
        "            print(\"Running on Windows\\n\")\n",
        "\n",
        "    def extract_text(self, image: str, lang: str) -> str:\n",
        "        img = Image.open(image)\n",
        "        extracted_text = pytesseract.image_to_string(img, lang=lang)\n",
        "        return extracted_text\n",
        "\n",
        "if __name__ == '__main__':\n",
        "    ir = ImageReader(OS.Windows)\n",
        "    text = ir.extract_text('R7.jpg', lang='eng')\n",
        "    print(text)"
      ],
      "metadata": {
        "id": "-AhYJdFm0lo4"
      },
      "execution_count": null,
      "outputs": []
    }
  ]
}